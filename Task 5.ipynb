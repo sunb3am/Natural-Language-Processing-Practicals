{
  "nbformat": 4,
  "nbformat_minor": 0,
  "metadata": {
    "colab": {
      "name": "9 October.ipynb",
      "provenance": []
    },
    "kernelspec": {
      "name": "python3",
      "display_name": "Python 3"
    }
  },
  "cells": [
    {
      "cell_type": "code",
      "metadata": {
        "id": "YHJN4ClfVQDz"
      },
      "source": [
        "import spacy\n",
        "model = spacy.load('en_core_web_sm')"
      ],
      "execution_count": 3,
      "outputs": []
    },
    {
      "cell_type": "code",
      "metadata": {
        "id": "NTOVTn4HVZP4",
        "outputId": "5005cc0e-dfe9-4fe4-abb6-1192698deb24",
        "colab": {
          "base_uri": "https://localhost:8080/",
          "height": 272
        }
      },
      "source": [
        "text = 'Vellore Institute of Technology (VIT) is a private university located in Vellore, Tamil Nadu, India. Founded in 1984, as Vellore Engineering College, by G. Viswanathan, the institution offers 20 undergraduate, 34 postgraduate, four integrated and four research programs. It has campuses in Vellore, Amravati, Bhopal and Chennai.'\n",
        "doc = model(text)\n",
        "\n",
        "for ent in doc.ents:\n",
        "  print(ent.text, ent.label_)"
      ],
      "execution_count": 6,
      "outputs": [
        {
          "output_type": "stream",
          "text": [
            "Vellore Institute of Technology ORG\n",
            "Vellore GPE\n",
            "Tamil Nadu PERSON\n",
            "India GPE\n",
            "1984 DATE\n",
            "Vellore Engineering College ORG\n",
            "G. Viswanathan PERSON\n",
            "20 CARDINAL\n",
            "undergraduate ORG\n",
            "34 CARDINAL\n",
            "four CARDINAL\n",
            "four CARDINAL\n",
            "Vellore GPE\n",
            "Amravati GPE\n",
            "Bhopal ORG\n"
          ],
          "name": "stdout"
        }
      ]
    },
    {
      "cell_type": "code",
      "metadata": {
        "id": "6fhiEEN5WLVx"
      },
      "source": [
        "locs = [('Omnicom', 'IN', 'New York'),('DDB Needham', 'IN', 'New York'), ('Kaplan Thaler Group', 'IN', 'New York'),('BBDO South', 'IN', 'Atlanta'), ('Georgia-Pacific', 'IN', 'Atlanta')]"
      ],
      "execution_count": 7,
      "outputs": []
    },
    {
      "cell_type": "code",
      "metadata": {
        "id": "AUTLuzi7XzTj"
      },
      "source": [
        "query = [e1 for (e1, e2, e3) in locs if e3 == 'Atlanta']"
      ],
      "execution_count": 10,
      "outputs": []
    },
    {
      "cell_type": "code",
      "metadata": {
        "id": "o9UxLb28X75f",
        "outputId": "3534ba2e-5d80-4a54-d559-6f6cf11f5a1e",
        "colab": {
          "base_uri": "https://localhost:8080/",
          "height": 34
        }
      },
      "source": [
        "print(query)"
      ],
      "execution_count": 11,
      "outputs": [
        {
          "output_type": "stream",
          "text": [
            "['BBDO South', 'Georgia-Pacific']\n"
          ],
          "name": "stdout"
        }
      ]
    },
    {
      "cell_type": "code",
      "metadata": {
        "id": "VhPlKP8tYECZ"
      },
      "source": [
        ""
      ],
      "execution_count": null,
      "outputs": []
    }
  ]
}
